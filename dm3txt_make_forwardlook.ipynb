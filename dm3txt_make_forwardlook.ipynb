{
 "cells": [
  {
   "cell_type": "code",
   "execution_count": 13,
   "metadata": {},
   "outputs": [],
   "source": [
    "from math import sqrt, asin, degrees"
   ]
  },
  {
   "cell_type": "code",
   "execution_count": 24,
   "metadata": {},
   "outputs": [
    {
     "name": "stdout",
     "output_type": "stream",
     "text": [
      "82691\n"
     ]
    }
   ],
   "source": [
    "with open('', 'r') as f:\n",
    "    demo_txt = f.read()\n",
    "\n",
    "lines = demo_txt.split('\\n')\n",
    "print(len(lines))"
   ]
  },
  {
   "cell_type": "code",
   "execution_count": 25,
   "metadata": {},
   "outputs": [],
   "source": [
    "def set_new_yaw_angle(i, angle):\n",
    "    global lines\n",
    "    new_yaw_line = '   viewangles[1] {};'.format(round(angle, 6))\n",
    "    if lines[i + 1][:15] == '   viewangles[0':\n",
    "        if lines[i + 2][:15] == '   viewangles[1': # if both pitch and old yaw are set\n",
    "            lines[i + 2] = new_yaw_line\n",
    "            return\n",
    "        else:                                      # if only pitch is set\n",
    "            #lines.insert(i + 2, new_yaw_line) # Adding a line breaks dm3 structure\n",
    "            return\n",
    "    if lines[i + 1][:15] == '   viewangles[1':     # if only yaw (old) is set\n",
    "        lines[i + 1] = new_yaw_line\n",
    "        return\n",
    "    if lines[i][:15] == '   viewangles[1':         # if the very line is yaw change, means none of vx, vy changed\n",
    "        lines[i] = new_yaw_line\n",
    "        return\n",
    "    #lines.insert(i + 1, new_yaw_line)             # if neither pitch nor yaw are set (adding a line breaks dm3 structure)"
   ]
  },
  {
   "cell_type": "code",
   "execution_count": 26,
   "metadata": {},
   "outputs": [],
   "source": [
    "def set_direction_angle(i, vx=None, vy=None):\n",
    "    global prev_vx, prev_vy\n",
    "    vx = vx if not vx is None else prev_vx\n",
    "    vy = vy if not vy is None else prev_vy\n",
    "    prev_vx, prev_vy = vx, vy\n",
    "    \n",
    "    vxy = sqrt(vx * vx + vy * vy) # hypotenuse == XY speed\n",
    "    if vxy == 0:\n",
    "        return                    # No need to change yaw angle if speed == 0\n",
    "    abs_yawangle = degrees(asin(abs(vy) / vxy))\n",
    "    \n",
    "    if vx > 0 and vy > 0:         # 1st quarter\n",
    "        set_new_yaw_angle(i, abs_yawangle)\n",
    "    elif vx < 0 and vy > 0:       # 2nd quarter\n",
    "        set_new_yaw_angle(i, 180.0 - abs_yawangle)\n",
    "    elif vx < 0 and vy < 0:       # 3rd quarter\n",
    "        set_new_yaw_angle(i, -180.0 + abs_yawangle)\n",
    "    elif vx > 0 and vy < 0:       # 4th quarter\n",
    "        set_new_yaw_angle(i, 0.0 - abs_yawangle)\n",
    "    elif vx == 0 and vy > 0:      # heading +Y\n",
    "        set_new_yaw_angle(i, 90.0)\n",
    "    elif vx == 0 and vy < 0:      # heading -Y\n",
    "        set_new_yaw_angle(i, -90.0)\n",
    "    elif vx > 0 and vy == 0:      # heading +X\n",
    "        set_new_yaw_angle(i, 0.0)\n",
    "    elif vx < 0 and vy == 0:      # heading -X\n",
    "        set_new_yaw_angle(i, 180.0)"
   ]
  },
  {
   "cell_type": "code",
   "execution_count": 27,
   "metadata": {},
   "outputs": [],
   "source": [
    "prev_vx, prev_vy = 0, 0\n",
    "for i, l in enumerate(lines):\n",
    "    if l[:13] == '   velocity[0':                # If vx changed,\n",
    "        if lines[i + 1][:13] == '   velocity[1': # and vy changed too\n",
    "            continue                             # will process with next line.\n",
    "        else:                                    # If only vx changed, call set_direction_angle with vx only.\n",
    "            set_direction_angle(i=i, vx=float(l.split(' ')[-1][:-1]))\n",
    "            continue\n",
    "    if l[:13] == '   velocity[1':                # If vy changed\n",
    "        if lines[i - 1][:13] == '   velocity[0': # and vx changed too\n",
    "            set_direction_angle(i=i,             # call set_direction_angle with both vx and vy.\n",
    "                                vx=float(lines[i - 1].split(' ')[-1][:-1]),\n",
    "                                vy=float(l.split(' ')[-1][:-1]))\n",
    "            continue\n",
    "        else:                                    # If only vy changed, call set_direction_angle with vy only.\n",
    "            set_direction_angle(i=i, vy=float(l.split(' ')[-1][:-1]))\n",
    "            continue\n",
    "    if l[:15] == '   viewangles[1': \n",
    "        # If yaw angle changed, but none of (vx, vy) changed (e.g. during some jumps),\n",
    "        # then call set_direction_angle with prev_vx & prev_vy\n",
    "        if not '   velocity' in [lines[i - 3][:11], lines[i - 2][:11], lines[i - 1][:11]]:\n",
    "            set_direction_angle(i=i, vx=prev_vx, vy=prev_vy)"
   ]
  },
  {
   "cell_type": "code",
   "execution_count": 28,
   "metadata": {},
   "outputs": [],
   "source": [
    "lines_to_save = '\\n'.join(lines)\n",
    "with open('', 'w') as f:\n",
    "    f.write(lines_to_save)"
   ]
  }
 ],
 "metadata": {
  "kernelspec": {
   "display_name": "Python 3",
   "language": "python",
   "name": "python3"
  },
  "language_info": {
   "codemirror_mode": {
    "name": "ipython",
    "version": 3
   },
   "file_extension": ".py",
   "mimetype": "text/x-python",
   "name": "python",
   "nbconvert_exporter": "python",
   "pygments_lexer": "ipython3",
   "version": "3.7.0"
  }
 },
 "nbformat": 4,
 "nbformat_minor": 2
}
